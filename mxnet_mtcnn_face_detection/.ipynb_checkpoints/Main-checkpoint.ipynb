{
 "cells": [
  {
   "cell_type": "code",
   "execution_count": 3,
   "metadata": {},
   "outputs": [],
   "source": [
    "# coding: utf-8\n",
    "import mxnet as mx\n",
    "from mtcnn_detector import MtcnnDetector\n",
    "import cv2\n",
    "import os\n",
    "import time\n",
    "\n",
    "detector = MtcnnDetector(model_folder='model', ctx=mx.cpu(0), num_worker = 4 , accurate_landmark = False)\n"
   ]
  },
  {
   "cell_type": "code",
   "execution_count": null,
   "metadata": {},
   "outputs": [
    {
     "name": "stdout",
     "output_type": "stream",
     "text": [
      "step1\n"
     ]
    }
   ],
   "source": [
    "img = cv2.imread('test.jpg')\n",
    "print 'step1'\n",
    "# run detector\n",
    "results = detector.detect_face(img)\n",
    "print 'step2'\n",
    "if results is not None:\n",
    "\n",
    "    total_boxes = results[0]\n",
    "    points = results[1]\n",
    "    \n",
    "    # extract aligned face chips\n",
    "    chips = detector.extract_image_chips(img, points, 144, 0.37)\n",
    "    print 'step3'\n",
    "    for i, chip in enumerate(chips):\n",
    "        #cv2.imshow('chip_'+str(i), chip)\n",
    "        cv2.imwrite('chip_'+str(i)+'.png', chip)\n",
    "    print 'step4'\n",
    "    draw = img.copy()\n",
    "    for b in total_boxes:\n",
    "        cv2.rectangle(draw, (int(b[0]), int(b[1])), (int(b[2]), int(b[3])), (255, 255, 255))\n",
    "    print 'step5'\n",
    "    for p in points:\n",
    "        for i in range(5):\n",
    "            cv2.circle(draw, (p[i], p[i + 5]), 1, (0, 0, 255), 2)\n",
    "    print 'step6'\n",
    "    #cv2.imshow(\"detection result\", draw)\n",
    "    #cv2.waitKey(0)\n",
    "    print 'chip length'\n",
    "    print (len(chips))\n",
    "# --------------\n",
    "# test on camera\n",
    "# --------------\n",
    "'''\n",
    "camera = cv2.VideoCapture(0)\n",
    "while True:\n",
    "    grab, frame = camera.read()\n",
    "    img = cv2.resize(frame, (320,180))\n",
    "\n",
    "    t1 = time.time()\n",
    "    results = detector.detect_face(img)\n",
    "    print 'time: ',time.time() - t1\n",
    "\n",
    "    if results is None:\n",
    "        continue\n",
    "\n",
    "    total_boxes = results[0]\n",
    "    points = results[1]\n",
    "\n",
    "    draw = img.copy()\n",
    "    for b in total_boxes:\n",
    "        cv2.rectangle(draw, (int(b[0]), int(b[1])), (int(b[2]), int(b[3])), (255, 255, 255))\n",
    "\n",
    "    for p in points:\n",
    "        for i in range(5):\n",
    "            cv2.circle(draw, (p[i], p[i + 5]), 1, (255, 0, 0), 2)\n",
    "    cv2.imshow(\"detection result\", draw)\n",
    "    cv2.waitKey(30)\n",
    "'''\n",
    "print ('done')\n",
    "#detector.Pool.close()\n",
    "#del(detector)"
   ]
  },
  {
   "cell_type": "code",
   "execution_count": null,
   "metadata": {
    "collapsed": true
   },
   "outputs": [],
   "source": []
  }
 ],
 "metadata": {
  "kernelspec": {
   "display_name": "Python 2",
   "language": "python",
   "name": "python2"
  },
  "language_info": {
   "codemirror_mode": {
    "name": "ipython",
    "version": 2
   },
   "file_extension": ".py",
   "mimetype": "text/x-python",
   "name": "python",
   "nbconvert_exporter": "python",
   "pygments_lexer": "ipython2",
   "version": "2.7.12"
  }
 },
 "nbformat": 4,
 "nbformat_minor": 2
}
